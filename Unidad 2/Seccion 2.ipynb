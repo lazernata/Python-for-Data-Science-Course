{
 "cells": [
  {
   "cell_type": "code",
   "execution_count": 1,
   "id": "2af20364",
   "metadata": {},
   "outputs": [],
   "source": [
    "def area_triang(a,h):\n",
    "    \"\"\"Cálculo del área del triángulo\"\"\"\n",
    "    area = (a*h)/2\n",
    "    return area"
   ]
  },
  {
   "cell_type": "code",
   "execution_count": 2,
   "id": "b60f8484",
   "metadata": {},
   "outputs": [
    {
     "data": {
      "text/plain": [
       "7.5"
      ]
     },
     "execution_count": 2,
     "metadata": {},
     "output_type": "execute_result"
    }
   ],
   "source": [
    "area_triang(3,5)"
   ]
  },
  {
   "cell_type": "code",
   "execution_count": 5,
   "id": "ce6d199a",
   "metadata": {},
   "outputs": [
    {
     "name": "stdout",
     "output_type": "stream",
     "text": [
      "Help on function area_triang in module __main__:\n",
      "\n",
      "area_triang(a, h)\n",
      "    Cálculo del área del triángulo\n",
      "\n"
     ]
    }
   ],
   "source": [
    "help(area_triang)"
   ]
  },
  {
   "cell_type": "code",
   "execution_count": 9,
   "id": "86a6563e",
   "metadata": {},
   "outputs": [
    {
     "name": "stdout",
     "output_type": "stream",
     "text": [
      "[9.8364, 10.8636, 13.1727, 22.6818]\n"
     ]
    }
   ],
   "source": [
    "precios_dol = [10.82,11.95,14.49,24.95]\n",
    "precio_eur = map(lambda x:round(x/1.1,4), precios_dol)\n",
    "print(list(precio_eur))"
   ]
  },
  {
   "cell_type": "code",
   "execution_count": 8,
   "id": "f7ba1cb3",
   "metadata": {},
   "outputs": [],
   "source": [
    "objeto = 'circulo'\n",
    "lado = 5\n",
    "radio = 3"
   ]
  },
  {
   "cell_type": "code",
   "execution_count": 10,
   "id": "923c2fd6",
   "metadata": {},
   "outputs": [
    {
     "name": "stdout",
     "output_type": "stream",
     "text": [
      "El área del círculo es  28.26\n"
     ]
    }
   ],
   "source": [
    "if objeto == 'cuadrado':\n",
    "    area = lado**2\n",
    "    print('El área del cuadrado es ',area)\n",
    "elif objeto == 'circulo':\n",
    "    area = radio**2 * 3.14\n",
    "    print('El área del círculo es ', area)\n",
    "else:\n",
    "    print('El objeto no reconocido')"
   ]
  },
  {
   "cell_type": "code",
   "execution_count": 11,
   "id": "e5388d55",
   "metadata": {},
   "outputs": [],
   "source": [
    "long = [12,9,14]"
   ]
  },
  {
   "cell_type": "code",
   "execution_count": 14,
   "id": "bd0c55a7",
   "metadata": {},
   "outputs": [
    {
     "name": "stdout",
     "output_type": "stream",
     "text": [
      "La longitud de la mesa 0 es 12\n",
      "La longitud de la mesa 1 es 9\n",
      "La longitud de la mesa 2 es 14\n"
     ]
    }
   ],
   "source": [
    "for ind,i in enumerate(long):\n",
    "    print('La longitud de la mesa ' + str(ind) + ' es ' + str(i))"
   ]
  },
  {
   "cell_type": "markdown",
   "id": "b1fb19b8",
   "metadata": {},
   "source": [
    "lista = [1,2,3,4,5,6,7,8]\n",
    "lista1 = [lista**2 if lista%2==0 else lista for num in lista]"
   ]
  },
  {
   "cell_type": "code",
   "execution_count": 18,
   "id": "f2ddd6fc",
   "metadata": {},
   "outputs": [
    {
     "name": "stdout",
     "output_type": "stream",
     "text": [
      "[1, 4, 3, 16, 5, 36, 7, 64]\n"
     ]
    }
   ],
   "source": [
    "lista = [1,2,3,4,5,6,7,8]\n",
    "lista1 = [num**2 if num%2==0 else num for num in lista]\n",
    "print(lista1)"
   ]
  },
  {
   "cell_type": "code",
   "execution_count": null,
   "id": "59bc3410",
   "metadata": {},
   "outputs": [],
   "source": []
  }
 ],
 "metadata": {
  "kernelspec": {
   "display_name": "Python 3 (ipykernel)",
   "language": "python",
   "name": "python3"
  },
  "language_info": {
   "codemirror_mode": {
    "name": "ipython",
    "version": 3
   },
   "file_extension": ".py",
   "mimetype": "text/x-python",
   "name": "python",
   "nbconvert_exporter": "python",
   "pygments_lexer": "ipython3",
   "version": "3.11.5"
  }
 },
 "nbformat": 4,
 "nbformat_minor": 5
}
